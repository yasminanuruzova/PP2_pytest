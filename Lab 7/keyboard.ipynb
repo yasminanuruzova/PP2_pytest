{
 "cells": [
  {
   "cell_type": "code",
   "execution_count": null,
   "id": "838cc9b7",
   "metadata": {},
   "outputs": [],
   "source": [
    "!pip install pygame"
   ]
  },
  {
   "cell_type": "code",
   "execution_count": null,
   "id": "3af75489",
   "metadata": {},
   "outputs": [],
   "source": [
    "pip install pygame keyboard"
   ]
  },
  {
   "cell_type": "code",
   "execution_count": null,
   "id": "47c02c88",
   "metadata": {},
   "outputs": [],
   "source": [
    "import pygame\n",
    "import keyboard\n",
    "\n",
    "# Initialize pygame mixer\n",
    "pygame.mixer.init()\n",
    "\n",
    "# List of songs\n",
    "songs = [\"song1.mp3\", \"song1.mp3\", \"song3.mp3\"]\n",
    "current_song = 0\n",
    "\n",
    "# Function to play music\n",
    "def play_music():\n",
    "    pygame.mixer.init()\n",
    "    pygame.mixer.music.load(songs[current_song])\n",
    "    pygame.mixer.music.play()\n",
    "\n",
    "# Start playing the first song\n",
    "play_music()\n",
    "\n",
    "print(\"Controls: [SPACE] Play/Pause | [S] Stop | [N] Next | [P] Previous\")\n",
    "\n",
    "# Main loop for keyboard input\n",
    "while True:\n",
    "    if keyboard.is_pressed(\"space\"):\n",
    "        if pygame.mixer.music.get_busy():\n",
    "            pygame.mixer.music.pause()\n",
    "        else:\n",
    "            pygame.mixer.music.unpause()\n",
    "        keyboard.wait(\"space\") \n",
    "    \n",
    "    elif keyboard.is_pressed(\"space\"):  # Stop\n",
    "        pygame.mixer.music.stop()\n",
    "\n",
    "    elif keyboard.is_pressed(\"n\"):  # Next song\n",
    "        current_song = (current_song + 1) % len(songs)\n",
    "        play_music()\n",
    "\n",
    "    elif keyboard.is_pressed(\"p\"):  # Previous song\n",
    "        current_song = (current_song - 1) % len(songs)\n",
    "        play_music()"
   ]
  },
  {
   "cell_type": "code",
   "execution_count": null,
   "id": "e6e49c47",
   "metadata": {},
   "outputs": [],
   "source": []
  }
 ],
 "metadata": {
  "kernelspec": {
   "display_name": "Python 3 (ipykernel)",
   "language": "python",
   "name": "python3"
  },
  "language_info": {
   "codemirror_mode": {
    "name": "ipython",
    "version": 3
   },
   "file_extension": ".py",
   "mimetype": "text/x-python",
   "name": "python",
   "nbconvert_exporter": "python",
   "pygments_lexer": "ipython3",
   "version": "3.11.5"
  }
 },
 "nbformat": 4,
 "nbformat_minor": 5
}

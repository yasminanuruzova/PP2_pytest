{
 "cells": [
  {
   "cell_type": "code",
   "execution_count": 6,
   "id": "ee52b8c7",
   "metadata": {},
   "outputs": [],
   "source": [
    "# Dictionary of movies\n",
    "\n",
    "movies = [\n",
    "{\n",
    "\"name\": \"Usual Suspects\", \n",
    "\"imdb\": 7.0,\n",
    "\"category\": \"Thriller\"\n",
    "},\n",
    "{\n",
    "\"name\": \"Hitman\",\n",
    "\"imdb\": 6.3,\n",
    "\"category\": \"Action\"\n",
    "},\n",
    "{\n",
    "\"name\": \"Dark Knight\",\n",
    "\"imdb\": 9.0,\n",
    "\"category\": \"Adventure\"\n",
    "},\n",
    "{\n",
    "\"name\": \"The Help\",\n",
    "\"imdb\": 8.0,\n",
    "\"category\": \"Drama\"\n",
    "},\n",
    "{\n",
    "\"name\": \"The Choice\",\n",
    "\"imdb\": 6.2,\n",
    "\"category\": \"Romance\"\n",
    "},\n",
    "{\n",
    "\"name\": \"Colonia\",\n",
    "\"imdb\": 7.4,\n",
    "\"category\": \"Romance\"\n",
    "},\n",
    "{\n",
    "\"name\": \"Love\",\n",
    "\"imdb\": 6.0,\n",
    "\"category\": \"Romance\"\n",
    "},\n",
    "{\n",
    "\"name\": \"Bride Wars\",\n",
    "\"imdb\": 5.4,\n",
    "\"category\": \"Romance\"\n",
    "},\n",
    "{\n",
    "\"name\": \"AlphaJet\",\n",
    "\"imdb\": 3.2,\n",
    "\"category\": \"War\"\n",
    "},\n",
    "{\n",
    "\"name\": \"Ringing Crime\",\n",
    "\"imdb\": 4.0,\n",
    "\"category\": \"Crime\"\n",
    "},\n",
    "{\n",
    "\"name\": \"Joking muck\",\n",
    "\"imdb\": 7.2,\n",
    "\"category\": \"Comedy\"\n",
    "},\n",
    "{\n",
    "\"name\": \"What is the name\",\n",
    "\"imdb\": 9.2,\n",
    "\"category\": \"Suspense\"\n",
    "},\n",
    "{\n",
    "\"name\": \"Detective\",\n",
    "\"imdb\": 7.0,\n",
    "\"category\": \"Suspense\"\n",
    "},\n",
    "\n",
    "{\n",
    "\"name\": \"We Two\",\n",
    "\"imdb\": 7.2,\n",
    "\"category\": \"Romance\"\n",
    "}\n",
    "]"
   ]
  },
  {
   "cell_type": "markdown",
   "id": "d05ceb5b",
   "metadata": {},
   "source": [
    "1.Write a function that takes a single movie and returns True if its IMDB score is above 5.5"
   ]
  },
  {
   "cell_type": "code",
   "execution_count": 3,
   "id": "189d1300",
   "metadata": {},
   "outputs": [
    {
     "name": "stdout",
     "output_type": "stream",
     "text": [
      "False\n"
     ]
    }
   ],
   "source": [
    "def movie_55(movie):\n",
    "    return movie[\"imdb\"] > 5.5\n",
    "\n",
    "print(movie_55({\n",
    "\"name\": \"Exam\",\n",
    "\"imdb\": 4.2,\n",
    "\"category\": \"Thriller\"\n",
    "}))\n"
   ]
  },
  {
   "cell_type": "markdown",
   "id": "b1407d4a",
   "metadata": {},
   "source": [
    "2.Write a function that returns a sublist of movies with an IMDB score above 5.5."
   ]
  },
  {
   "cell_type": "code",
   "execution_count": 7,
   "id": "52880833",
   "metadata": {},
   "outputs": [
    {
     "name": "stdout",
     "output_type": "stream",
     "text": [
      "[{'name': 'Usual Suspects', 'imdb': 7.0, 'category': 'Thriller'}, {'name': 'Hitman', 'imdb': 6.3, 'category': 'Action'}, {'name': 'Dark Knight', 'imdb': 9.0, 'category': 'Adventure'}, {'name': 'The Help', 'imdb': 8.0, 'category': 'Drama'}, {'name': 'The Choice', 'imdb': 6.2, 'category': 'Romance'}, {'name': 'Colonia', 'imdb': 7.4, 'category': 'Romance'}, {'name': 'Love', 'imdb': 6.0, 'category': 'Romance'}, {'name': 'Joking muck', 'imdb': 7.2, 'category': 'Comedy'}, {'name': 'What is the name', 'imdb': 9.2, 'category': 'Suspense'}, {'name': 'Detective', 'imdb': 7.0, 'category': 'Suspense'}, {'name': 'We Two', 'imdb': 7.2, 'category': 'Romance'}]\n"
     ]
    }
   ],
   "source": [
    "def movies_55(movies):\n",
    "    return [movie for movie in movies if movie[\"imdb\"] > 5.5]\n",
    "\n",
    "print(movies_55(movies))"
   ]
  },
  {
   "cell_type": "markdown",
   "id": "5d1f5fac",
   "metadata": {},
   "source": [
    "3.Write a function that takes a category name and returns just those movies under that category."
   ]
  },
  {
   "cell_type": "code",
   "execution_count": 12,
   "id": "c5a67562",
   "metadata": {},
   "outputs": [
    {
     "name": "stdout",
     "output_type": "stream",
     "text": [
      "{'name': 'The Choice', 'imdb': 6.2, 'category': 'Romance'}\n",
      "{'name': 'Colonia', 'imdb': 7.4, 'category': 'Romance'}\n",
      "{'name': 'Love', 'imdb': 6.0, 'category': 'Romance'}\n",
      "{'name': 'Bride Wars', 'imdb': 5.4, 'category': 'Romance'}\n",
      "{'name': 'We Two', 'imdb': 7.2, 'category': 'Romance'}\n"
     ]
    }
   ],
   "source": [
    "def category(movies, category):\n",
    "    for movie in movies:\n",
    "        if movie[\"category\"] == category:\n",
    "            print(movie)\n",
    "category(movies, \"Romance\")"
   ]
  },
  {
   "cell_type": "markdown",
   "id": "3f1e9e35",
   "metadata": {},
   "source": [
    "4.Write a function that takes a list of movies and computes the average IMDB score."
   ]
  },
  {
   "cell_type": "code",
   "execution_count": 14,
   "id": "aac5bcc7",
   "metadata": {},
   "outputs": [
    {
     "name": "stdout",
     "output_type": "stream",
     "text": [
      "6.65\n"
     ]
    }
   ],
   "source": [
    "def ave(movies):\n",
    "    return sum(movie[\"imdb\"] for movie in movies)/ len(movies)\n",
    "print(ave(movies))"
   ]
  },
  {
   "cell_type": "markdown",
   "id": "80f98d11",
   "metadata": {},
   "source": [
    "5.Write a function that takes a category and computes the average IMDB score."
   ]
  },
  {
   "cell_type": "code",
   "execution_count": 19,
   "id": "a4cd7992",
   "metadata": {},
   "outputs": [
    {
     "data": {
      "text/plain": [
       "6.44"
      ]
     },
     "execution_count": 19,
     "metadata": {},
     "output_type": "execute_result"
    }
   ],
   "source": [
    "def ave_categ(movies, category):\n",
    "    categ=[movie[\"imdb\"] for movie in movies if movie[\"category\"]==category]\n",
    "    return sum(categ)/ len(categ) if categ else 0\n",
    "ave_categ(movies, \"Romance\")"
   ]
  },
  {
   "cell_type": "code",
   "execution_count": null,
   "id": "9348e797",
   "metadata": {},
   "outputs": [],
   "source": []
  },
  {
   "cell_type": "code",
   "execution_count": null,
   "id": "922ad656",
   "metadata": {},
   "outputs": [],
   "source": []
  },
  {
   "cell_type": "code",
   "execution_count": null,
   "id": "609c84ca",
   "metadata": {},
   "outputs": [],
   "source": []
  },
  {
   "cell_type": "code",
   "execution_count": null,
   "id": "d9d25bd4",
   "metadata": {},
   "outputs": [],
   "source": []
  }
 ],
 "metadata": {
  "kernelspec": {
   "display_name": "Python 3 (ipykernel)",
   "language": "python",
   "name": "python3"
  },
  "language_info": {
   "codemirror_mode": {
    "name": "ipython",
    "version": 3
   },
   "file_extension": ".py",
   "mimetype": "text/x-python",
   "name": "python",
   "nbconvert_exporter": "python",
   "pygments_lexer": "ipython3",
   "version": "3.11.5"
  }
 },
 "nbformat": 4,
 "nbformat_minor": 5
}

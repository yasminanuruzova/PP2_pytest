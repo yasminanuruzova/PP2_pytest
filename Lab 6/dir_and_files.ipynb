{
 "cells": [
  {
   "cell_type": "code",
   "execution_count": 2,
   "id": "7eefcc51",
   "metadata": {},
   "outputs": [
    {
     "name": "stdout",
     "output_type": "stream",
     "text": [
      "Enter the path: C:\\Users\\user\\OneDrive\n",
      "Directories: ['.ipynb_checkpoints', 'Academica Course Python', 'C++', 'Desktop', 'Lab 3', 'Lab 4', 'Lab 5', 'Документы', 'Изображения']\n",
      "Files: ['.849C9593-D756-4E56-8D6E-42412F2A707B', '13 topics from githowto.ipynb', '14task_file.ipynb', 'desktop.ini', 'Getting started with OneDrive.pdf', 'json practice.ipynb', 'lab2_w3sch2_boolean_for loops.ipynb', 'mymodule.ipynb', 'mymodule.py.py', 'Personal Vault.lnk', 'RegEx practice.ipynb', 'Untitled.ipynb', 'w3.Functions...inheritance.ipynb', 'w3sch_intro_strings.ipynb', 'с++']\n",
      "All items: ['.849C9593-D756-4E56-8D6E-42412F2A707B', '.ipynb_checkpoints', '13 topics from githowto.ipynb', '14task_file.ipynb', 'Academica Course Python', 'C++', 'Desktop', 'desktop.ini', 'Getting started with OneDrive.pdf', 'json practice.ipynb', 'Lab 3', 'Lab 4', 'Lab 5', 'lab2_w3sch2_boolean_for loops.ipynb', 'mymodule.ipynb', 'mymodule.py.py', 'Personal Vault.lnk', 'RegEx practice.ipynb', 'Untitled.ipynb', 'w3.Functions...inheritance.ipynb', 'w3sch_intro_strings.ipynb', 'Документы', 'Изображения', 'с++']\n"
     ]
    }
   ],
   "source": [
    "import os\n",
    "\n",
    "path = input(\"path: \")\n",
    "\n",
    "print(\"Directories:\", [d for d in os.listdir(path) if os.path.isdir(os.path.join(path, d))])\n",
    "\n",
    "print(\"Files:\", [f for f in os.listdir(path) if os.path.isfile(os.path.join(path, f))])\n",
    "\n",
    "print(\"All items:\", os.listdir(path))\n"
   ]
  },
  {
   "cell_type": "markdown",
   "id": "5cbfa39c",
   "metadata": {},
   "source": [
    "2.Write a Python program to check for access to a specified path. Test the existence, readability, writability and executability of the specified path"
   ]
  },
  {
   "cell_type": "code",
   "execution_count": 3,
   "id": "c9a5cc42",
   "metadata": {},
   "outputs": [
    {
     "name": "stdout",
     "output_type": "stream",
     "text": [
      "path: C:\\Users\\user\\OneDrive\n",
      "Exists: True\n",
      "Readable: True\n",
      "Writable: True\n",
      "Executable: True\n"
     ]
    }
   ],
   "source": [
    "path = input(\"path: \")\n",
    "\n",
    "print(\"Exists:\", os.path.exists(path))\n",
    "print(\"Readable:\", os.access(path, os.R_OK))\n",
    "print(\"Writable:\", os.access(path, os.W_OK))\n",
    "print(\"Executable:\", os.access(path, os.X_OK))"
   ]
  },
  {
   "cell_type": "markdown",
   "id": "0e8cf26b",
   "metadata": {},
   "source": [
    "3.Write a Python program to test whether a given path exists or not. If the path exist find the filename and directory portion of the given path."
   ]
  },
  {
   "cell_type": "code",
   "execution_count": 4,
   "id": "df4f05fe",
   "metadata": {},
   "outputs": [
    {
     "name": "stdout",
     "output_type": "stream",
     "text": [
      "Path exists!\n",
      "Directory: C:\\Users\\user\n",
      "Filename: OneDrive\n"
     ]
    }
   ],
   "source": [
    "if os.path.exists(path):\n",
    "    print(\"Path exists!\")\n",
    "    print(\"Directory:\", os.path.dirname(path))\n",
    "    print(\"Filename:\", os.path.basename(path))\n",
    "else:\n",
    "    print(\"Path does not exist.\")"
   ]
  },
  {
   "cell_type": "markdown",
   "id": "8df7a796",
   "metadata": {},
   "source": [
    "4. Write a Python program to count the number of lines in a text file.\n"
   ]
  },
  {
   "cell_type": "code",
   "execution_count": 19,
   "id": "75777652",
   "metadata": {},
   "outputs": [
    {
     "name": "stdout",
     "output_type": "stream",
     "text": [
      "Hello! Welcome to demofile.txt\n",
      "This file is for testing purposes.\n",
      "Good Luck!\n",
      "\n"
     ]
    }
   ],
   "source": [
    "file= open(\"sample.txt\", \"r\") \n",
    "print(file.read())"
   ]
  },
  {
   "cell_type": "code",
   "execution_count": 18,
   "id": "ab2b0eea",
   "metadata": {},
   "outputs": [
    {
     "name": "stdout",
     "output_type": "stream",
     "text": [
      "Total Number of lines: 3\n"
     ]
    }
   ],
   "source": [
    "with open(r\"sample.txt\", 'r') as fp:\n",
    "    lines = len(fp.readlines())\n",
    "    print('Total Number of lines:', lines)"
   ]
  },
  {
   "cell_type": "markdown",
   "id": "d650b6bf",
   "metadata": {},
   "source": [
    "5. Write a Python program to write a list to a file."
   ]
  },
  {
   "cell_type": "code",
   "execution_count": 25,
   "id": "68faa9a0",
   "metadata": {},
   "outputs": [
    {
     "name": "stdout",
     "output_type": "stream",
     "text": [
      "Hello! Welcome to demofile.txt\n",
      "This file is for testing purposes.\n",
      "Good Luck!\n",
      "Apple\n",
      "Banana\n",
      "Cherry\n",
      "Date\n",
      "Apple\n",
      "Banana\n",
      "Cherry\n",
      "Date\n",
      "Apple\n",
      "Apple\n",
      "Banana\n",
      "Cherry\n",
      "Date\n",
      "Apple\n",
      "Banana\n",
      "Cherry\n",
      "Date\n",
      "\n"
     ]
    }
   ],
   "source": [
    "my_list = [\"Apple\", \"Banana\", \"Cherry\", \"Date\"]\n",
    "\n",
    "with open(\"sample.txt\", \"a\") as file:\n",
    "    for item in my_list:\n",
    "        file.write(item + \"\\n\")\n",
    "with open(\"sample.txt\", \"r\") as file:\n",
    "    print(file.read())"
   ]
  },
  {
   "cell_type": "markdown",
   "id": "032178ac",
   "metadata": {},
   "source": [
    "6.Write a Python program to generate 26 text files named A.txt, B.txt, and so on up to Z.txt"
   ]
  },
  {
   "cell_type": "code",
   "execution_count": 26,
   "id": "ebbec101",
   "metadata": {},
   "outputs": [],
   "source": [
    "import string\n",
    "\n",
    "for letter in string.ascii_uppercase:\n",
    "    with open(f\"{letter}.txt\", \"w\") as file:\n",
    "        file.write(f\"This is {letter}.txt\\n\")"
   ]
  },
  {
   "cell_type": "markdown",
   "id": "0bd5e3dc",
   "metadata": {},
   "source": [
    "7. Write a Python program to copy the contents of a file to another file"
   ]
  },
  {
   "cell_type": "code",
   "execution_count": 32,
   "id": "0fce161b",
   "metadata": {},
   "outputs": [],
   "source": [
    "with open(\"source.txt\", \"r\") as src, open(\"destination.txt\", \"w\") as dest:\n",
    "    dest.write(src.read())\n"
   ]
  },
  {
   "cell_type": "markdown",
   "id": "ae4b141c",
   "metadata": {},
   "source": [
    "8.Write a Python program to delete file by specified path. Before deleting check for access and whether a given path exists or not.\n"
   ]
  },
  {
   "cell_type": "code",
   "execution_count": 35,
   "id": "fdb6c810",
   "metadata": {},
   "outputs": [
    {
     "name": "stdout",
     "output_type": "stream",
     "text": [
      "file path to delete: C:\\Users\\user\\OneDrive\\C.txt\n"
     ]
    }
   ],
   "source": [
    "import os\n",
    "\n",
    "file_path = input(\"file path to delete: \")\n",
    "\n",
    "os.path.exists(file_path)\n",
    "os.access(file_path, os.W_OK)\n",
    "os.remove(file_path) "
   ]
  },
  {
   "cell_type": "code",
   "execution_count": null,
   "id": "8fa9dbca",
   "metadata": {},
   "outputs": [],
   "source": []
  }
 ],
 "metadata": {
  "kernelspec": {
   "display_name": "Python 3 (ipykernel)",
   "language": "python",
   "name": "python3"
  },
  "language_info": {
   "codemirror_mode": {
    "name": "ipython",
    "version": 3
   },
   "file_extension": ".py",
   "mimetype": "text/x-python",
   "name": "python",
   "nbconvert_exporter": "python",
   "pygments_lexer": "ipython3",
   "version": "3.11.5"
  }
 },
 "nbformat": 4,
 "nbformat_minor": 5
}

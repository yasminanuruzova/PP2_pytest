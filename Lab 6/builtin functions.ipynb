{
 "cells": [
  {
   "cell_type": "markdown",
   "id": "e1e3307e",
   "metadata": {},
   "source": [
    "1.Write a Python program with builtin function to multiply all the numbers in a list"
   ]
  },
  {
   "cell_type": "code",
   "execution_count": 1,
   "id": "66f79235",
   "metadata": {},
   "outputs": [
    {
     "name": "stdout",
     "output_type": "stream",
     "text": [
      "120\n"
     ]
    }
   ],
   "source": [
    "import math\n",
    "\n",
    "numbers = [2, 3, 4, 5]\n",
    "\n",
    "result = math.prod(numbers)\n",
    "\n",
    "print(result)"
   ]
  },
  {
   "cell_type": "markdown",
   "id": "7ba0ea0f",
   "metadata": {},
   "source": [
    "2.Write a Python program with builtin function that accepts a string and calculate the number of upper case letters and lower case letters\n",
    "\n"
   ]
  },
  {
   "cell_type": "code",
   "execution_count": 2,
   "id": "eafa2043",
   "metadata": {},
   "outputs": [
    {
     "name": "stdout",
     "output_type": "stream",
     "text": [
      "Enter a string: Love PP2\n",
      "Upper case: 3\n",
      "Lower case: 3\n"
     ]
    }
   ],
   "source": [
    "def count_letters(s):\n",
    "    return sum(c.isupper() for c in s), sum(c.islower() for c in s)\n",
    "\n",
    "text = input(\"Enter a string: \")\n",
    "upper_count, lower_count = count_letters(text)\n",
    "print(\"Upper case:\", upper_count)\n",
    "print(\"Lower case:\", lower_count)\n"
   ]
  },
  {
   "cell_type": "markdown",
   "id": "89639ce6",
   "metadata": {},
   "source": [
    "3.Write a Python program with builtin function that checks whether a passed string is palindrome or not."
   ]
  },
  {
   "cell_type": "code",
   "execution_count": 3,
   "id": "12bbe171",
   "metadata": {},
   "outputs": [
    {
     "name": "stdout",
     "output_type": "stream",
     "text": [
      "Enter a string: kek\n",
      "Palindrome: True\n"
     ]
    }
   ],
   "source": [
    "def is_palindrome(s):\n",
    "    return s == s[::-1]\n",
    "\n",
    "text = input(\"Enter a string: \")\n",
    "print(\"Palindrome:\", is_palindrome(text))\n"
   ]
  },
  {
   "cell_type": "markdown",
   "id": "ae677d82",
   "metadata": {},
   "source": [
    "4.Write a Python program that invoke square root function after specific milliseconds."
   ]
  },
  {
   "cell_type": "code",
   "execution_count": 2,
   "id": "82936003",
   "metadata": {},
   "outputs": [
    {
     "name": "stdout",
     "output_type": "stream",
     "text": [
      "Enter number: 566\n",
      "Enter milliseconds: 55\n",
      "Square root of 566 after 55 milliseconds is 23.790754506740637\n"
     ]
    }
   ],
   "source": [
    "import time\n",
    "import math\n",
    "\n",
    "num = int(input(\"Enter number: \"))\n",
    "milliseconds = int(input(\"Enter milliseconds: \"))\n",
    "\n",
    "time.sleep(milliseconds / 1000)\n",
    "\n",
    "print(f\"Square root of {num} after {milliseconds} milliseconds is {math.sqrt(num)}\")\n"
   ]
  },
  {
   "cell_type": "markdown",
   "id": "f0664e32",
   "metadata": {},
   "source": [
    "5.Write a Python program with builtin function that returns True if all elements of the tuple are true."
   ]
  },
  {
   "cell_type": "code",
   "execution_count": 3,
   "id": "03a34a76",
   "metadata": {},
   "outputs": [
    {
     "name": "stdout",
     "output_type": "stream",
     "text": [
      "True\n"
     ]
    }
   ],
   "source": [
    "def all_true(t):\n",
    "    return all(t)\n",
    "\n",
    "my_tuple = (True, 1, \"Hello\", 5)\n",
    "print(all_true(my_tuple))"
   ]
  },
  {
   "cell_type": "code",
   "execution_count": null,
   "id": "ca7bec7a",
   "metadata": {},
   "outputs": [],
   "source": []
  }
 ],
 "metadata": {
  "kernelspec": {
   "display_name": "Python 3 (ipykernel)",
   "language": "python",
   "name": "python3"
  },
  "language_info": {
   "codemirror_mode": {
    "name": "ipython",
    "version": 3
   },
   "file_extension": ".py",
   "mimetype": "text/x-python",
   "name": "python",
   "nbconvert_exporter": "python",
   "pygments_lexer": "ipython3",
   "version": "3.11.5"
  }
 },
 "nbformat": 4,
 "nbformat_minor": 5
}

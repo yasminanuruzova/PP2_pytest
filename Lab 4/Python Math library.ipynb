{
 "cells": [
  {
   "cell_type": "markdown",
   "id": "580ec7d8",
   "metadata": {},
   "source": [
    "1.Write a Python program to convert degree to radian.\n"
   ]
  },
  {
   "cell_type": "code",
   "execution_count": 1,
   "id": "c0c6f984",
   "metadata": {},
   "outputs": [
    {
     "name": "stdout",
     "output_type": "stream",
     "text": [
      "Input degree: 15\n",
      "Output radian: 0.261799\n"
     ]
    }
   ],
   "source": [
    "import math\n",
    "\n",
    "degree = float(input(\"Input degree: \"))\n",
    "\n",
    "radian = math.radians(degree)\n",
    "\n",
    "print(f\"Output radian: {radian:.6f}\")"
   ]
  },
  {
   "cell_type": "markdown",
   "id": "3170746b",
   "metadata": {},
   "source": [
    "2.Write a Python program to calculate the area of a trapezoid.\n"
   ]
  },
  {
   "cell_type": "code",
   "execution_count": 3,
   "id": "04aa9127",
   "metadata": {
    "scrolled": true
   },
   "outputs": [
    {
     "name": "stdout",
     "output_type": "stream",
     "text": [
      "base1: 5 \n",
      "base2: 6\n",
      "height: 5\n",
      "Area:  27.5\n"
     ]
    }
   ],
   "source": [
    "a,b,h= int(input(\"base1: \")), int(input(\"base2: \")), int(input(\"height: \"))\n",
    "area= (a+b)*(h/2)\n",
    "print(\"Area: \", area)"
   ]
  },
  {
   "cell_type": "markdown",
   "id": "f5920709",
   "metadata": {},
   "source": [
    "3.Write a Python program to calculate the area of regular polygon.\n"
   ]
  },
  {
   "cell_type": "code",
   "execution_count": 9,
   "id": "05846362",
   "metadata": {},
   "outputs": [
    {
     "name": "stdout",
     "output_type": "stream",
     "text": [
      "Input number of sides: 4\n",
      "Input the length of a side: 25\n",
      "The area of the polygon is: 625.00\n"
     ]
    }
   ],
   "source": [
    "num_sides, length_side=int(input(\"Input number of sides: \")),float(input(\"Input the length of a side: \"))\n",
    "area= (num_sides*length_side**2)/(4*math.tan(math.pi/num_sides))\n",
    "print(f\"The area of the polygon is: {area:.2f}\")"
   ]
  },
  {
   "cell_type": "code",
   "execution_count": null,
   "id": "85c3974e",
   "metadata": {},
   "outputs": [],
   "source": []
  },
  {
   "cell_type": "markdown",
   "id": "0ff3517e",
   "metadata": {},
   "source": [
    "4.Write a Python program to calculate the area of a parallelogram."
   ]
  },
  {
   "cell_type": "code",
   "execution_count": 11,
   "id": "724c0df5",
   "metadata": {},
   "outputs": [
    {
     "name": "stdout",
     "output_type": "stream",
     "text": [
      "Length of base:: 5\n",
      "Height of parallelogram: 6\n",
      "Area:  30.0\n"
     ]
    }
   ],
   "source": [
    "a,b= float(input(\"Length of base:: \")), float(input(\"Height of parallelogram: \"))\n",
    "area= a*b\n",
    "print(\"Area: \", area)"
   ]
  },
  {
   "cell_type": "code",
   "execution_count": null,
   "id": "b2e0284e",
   "metadata": {},
   "outputs": [],
   "source": []
  },
  {
   "cell_type": "code",
   "execution_count": null,
   "id": "381dde23",
   "metadata": {},
   "outputs": [],
   "source": []
  },
  {
   "cell_type": "code",
   "execution_count": null,
   "id": "b00ca0e5",
   "metadata": {},
   "outputs": [],
   "source": []
  },
  {
   "cell_type": "code",
   "execution_count": null,
   "id": "8e57e1e8",
   "metadata": {},
   "outputs": [],
   "source": []
  }
 ],
 "metadata": {
  "kernelspec": {
   "display_name": "Python 3 (ipykernel)",
   "language": "python",
   "name": "python3"
  },
  "language_info": {
   "codemirror_mode": {
    "name": "ipython",
    "version": 3
   },
   "file_extension": ".py",
   "mimetype": "text/x-python",
   "name": "python",
   "nbconvert_exporter": "python",
   "pygments_lexer": "ipython3",
   "version": "3.11.5"
  }
 },
 "nbformat": 4,
 "nbformat_minor": 5
}

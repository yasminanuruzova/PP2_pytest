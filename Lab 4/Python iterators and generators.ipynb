{
 "cells": [
  {
   "cell_type": "code",
   "execution_count": 1,
   "id": "a1f56739",
   "metadata": {},
   "outputs": [],
   "source": [
    "## Python iterators and generators"
   ]
  },
  {
   "cell_type": "markdown",
   "id": "009f8fd4",
   "metadata": {},
   "source": [
    "1. Create a generator that generates the squares of numbers up to some number `N`."
   ]
  },
  {
   "cell_type": "code",
   "execution_count": 2,
   "id": "f37fb25f",
   "metadata": {},
   "outputs": [
    {
     "name": "stdout",
     "output_type": "stream",
     "text": [
      "5\n",
      "0\n",
      "1\n",
      "4\n",
      "9\n",
      "16\n",
      "25\n"
     ]
    }
   ],
   "source": [
    "def square_gen(N):\n",
    "    for i in range(N+1):\n",
    "        yield i**2\n",
    "for num in square_gen(int(input())):\n",
    "    print(num)"
   ]
  },
  {
   "cell_type": "code",
   "execution_count": null,
   "id": "623bbc07",
   "metadata": {},
   "outputs": [],
   "source": []
  },
  {
   "cell_type": "markdown",
   "id": "9fc55010",
   "metadata": {},
   "source": [
    "2. Write a program using generator to print the even numbers between 0 and `n` in comma separated form where `n` is input from console.\n"
   ]
  },
  {
   "cell_type": "code",
   "execution_count": 3,
   "id": "cb394e9f",
   "metadata": {},
   "outputs": [
    {
     "name": "stdout",
     "output_type": "stream",
     "text": [
      "10\n",
      "0,2,4,6,8,10,"
     ]
    }
   ],
   "source": [
    "def even_gen(n):\n",
    "    for i in range(n+1):\n",
    "        if i%2==0:\n",
    "            yield i\n",
    "for num in even_gen(int(input())):\n",
    "    print(num, end=',')"
   ]
  },
  {
   "cell_type": "markdown",
   "id": "ae437c3e",
   "metadata": {},
   "source": [
    "3. Define a function with a generator which can iterate the numbers, which are divisible by 3 and 4, between a given range 0 and n."
   ]
  },
  {
   "cell_type": "code",
   "execution_count": 4,
   "id": "fc8ef872",
   "metadata": {},
   "outputs": [
    {
     "name": "stdout",
     "output_type": "stream",
     "text": [
      "40\n",
      "0\n",
      "12\n",
      "24\n",
      "36\n"
     ]
    }
   ],
   "source": [
    "def divisible(n):\n",
    "    for i in range(n+1):\n",
    "        if i%3==0 and i%4==0:\n",
    "            yield i\n",
    "for num in divisible(int(input())):\n",
    "    print(num)"
   ]
  },
  {
   "cell_type": "markdown",
   "id": "7c88f1fe",
   "metadata": {},
   "source": [
    "4.Implement a generator called squares to yield the square of all numbers from (a) to (b). Test it with a \"for\" loop and print each of the yielded values."
   ]
  },
  {
   "cell_type": "code",
   "execution_count": 5,
   "id": "0e7917f4",
   "metadata": {},
   "outputs": [
    {
     "name": "stdout",
     "output_type": "stream",
     "text": [
      "a: 5\n",
      "b: 10\n",
      "25\n",
      "36\n",
      "49\n",
      "64\n",
      "81\n",
      "100\n"
     ]
    }
   ],
   "source": [
    "def squares(a,b):\n",
    "    for i in range(a,b+1):\n",
    "        yield i**2\n",
    "for n in squares(int(input(\"a: \")),int(input(\"b: \"))):\n",
    "    print(n)"
   ]
  },
  {
   "cell_type": "markdown",
   "id": "3eafde89",
   "metadata": {},
   "source": [
    "5.Implement a generator that returns all numbers from (n) down to 0."
   ]
  },
  {
   "cell_type": "code",
   "execution_count": 11,
   "id": "be165ea8",
   "metadata": {},
   "outputs": [
    {
     "name": "stdout",
     "output_type": "stream",
     "text": [
      "5\n",
      "5\n",
      "4\n",
      "3\n",
      "2\n",
      "1\n",
      "0\n"
     ]
    }
   ],
   "source": [
    "def gen(n):\n",
    "    for i in range(n,-1,-1):\n",
    "        yield i\n",
    "for num in gen(int(input())):\n",
    "    print(num)"
   ]
  },
  {
   "cell_type": "code",
   "execution_count": null,
   "id": "11f126a0",
   "metadata": {},
   "outputs": [],
   "source": []
  }
 ],
 "metadata": {
  "kernelspec": {
   "display_name": "Python 3 (ipykernel)",
   "language": "python",
   "name": "python3"
  },
  "language_info": {
   "codemirror_mode": {
    "name": "ipython",
    "version": 3
   },
   "file_extension": ".py",
   "mimetype": "text/x-python",
   "name": "python",
   "nbconvert_exporter": "python",
   "pygments_lexer": "ipython3",
   "version": "3.11.5"
  }
 },
 "nbformat": 4,
 "nbformat_minor": 5
}

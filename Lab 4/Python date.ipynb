{
 "cells": [
  {
   "cell_type": "markdown",
   "id": "2b493344",
   "metadata": {},
   "source": [
    "1.Write a Python program to subtract five days from current date.\n",
    "\n"
   ]
  },
  {
   "cell_type": "code",
   "execution_count": 6,
   "id": "c02a5713",
   "metadata": {},
   "outputs": [
    {
     "name": "stdout",
     "output_type": "stream",
     "text": [
      "current date:  2025-02-18 21:05:54.390005\n",
      "Date after subtracting 5 days: 2025-02-13 21:05:54.390005\n"
     ]
    }
   ],
   "source": [
    "import datetime\n",
    "\n",
    "x = datetime.datetime.now()-datetime.timedelta(days=5)\n",
    "\n",
    "print(\"current date: \", datetime.datetime.now())\n",
    "print(\"Date after subtracting 5 days:\", x)"
   ]
  },
  {
   "cell_type": "code",
   "execution_count": null,
   "id": "2a81d694",
   "metadata": {},
   "outputs": [],
   "source": []
  },
  {
   "cell_type": "markdown",
   "id": "e9c2b177",
   "metadata": {},
   "source": [
    "2.Write a Python program to print yesterday, today, tomorrow."
   ]
  },
  {
   "cell_type": "code",
   "execution_count": 8,
   "id": "de922d37",
   "metadata": {},
   "outputs": [
    {
     "name": "stdout",
     "output_type": "stream",
     "text": [
      "yesterday:  02/17/25\n",
      "today:  02/18/25\n",
      "tomorrow: 02/19/25\n"
     ]
    }
   ],
   "source": [
    "import datetime\n",
    "\n",
    "x = datetime.datetime.now()-datetime.timedelta(days=1)\n",
    "y = datetime.datetime.now()\n",
    "z = datetime.datetime.now()+datetime.timedelta(days=1)\n",
    "\n",
    "print(\"yesterday: \", x.strftime(\"%x\"))\n",
    "print(\"today: \", y.strftime(\"%x\"))\n",
    "print(\"tomorrow:\", z.strftime(\"%x\"))"
   ]
  },
  {
   "cell_type": "markdown",
   "id": "fe621c10",
   "metadata": {},
   "source": [
    "3.Write a Python program to drop microseconds from datetime.\n",
    "\n"
   ]
  },
  {
   "cell_type": "code",
   "execution_count": 10,
   "id": "931ca955",
   "metadata": {},
   "outputs": [
    {
     "name": "stdout",
     "output_type": "stream",
     "text": [
      "date:  Tue Feb 18 21:14:30 2025\n"
     ]
    }
   ],
   "source": [
    "y = datetime.datetime.now()\n",
    "print(\"date: \", y.strftime(\"%c\"))"
   ]
  },
  {
   "cell_type": "code",
   "execution_count": null,
   "id": "2d0ce97f",
   "metadata": {},
   "outputs": [],
   "source": []
  },
  {
   "cell_type": "markdown",
   "id": "9fb815bd",
   "metadata": {},
   "source": [
    "4.Write a Python program to calculate two date difference in seconds.\n",
    "\n"
   ]
  },
  {
   "cell_type": "code",
   "execution_count": 14,
   "id": "f37687ad",
   "metadata": {},
   "outputs": [
    {
     "name": "stdout",
     "output_type": "stream",
     "text": [
      "diff in seconds:  86400.0\n"
     ]
    }
   ],
   "source": [
    "t_diff = datetime.datetime.now() - (datetime.datetime.now()-datetime.timedelta(days=1))\n",
    "diff_in_seconds = t_diff.total_seconds()\n",
    "print(\"diff in seconds: \", diff_in_seconds)"
   ]
  },
  {
   "cell_type": "code",
   "execution_count": null,
   "id": "b5647bd4",
   "metadata": {},
   "outputs": [],
   "source": []
  }
 ],
 "metadata": {
  "kernelspec": {
   "display_name": "Python 3 (ipykernel)",
   "language": "python",
   "name": "python3"
  },
  "language_info": {
   "codemirror_mode": {
    "name": "ipython",
    "version": 3
   },
   "file_extension": ".py",
   "mimetype": "text/x-python",
   "name": "python",
   "nbconvert_exporter": "python",
   "pygments_lexer": "ipython3",
   "version": "3.11.5"
  }
 },
 "nbformat": 4,
 "nbformat_minor": 5
}

{
 "cells": [
  {
   "cell_type": "code",
   "execution_count": 3,
   "id": "cd3e78b7",
   "metadata": {},
   "outputs": [
    {
     "name": "stdout",
     "output_type": "stream",
     "text": [
      "Interface Status\n",
      "================================================================================\n",
      "DN                                                 Description          Speed    MTU   \n",
      "--------------------------------------------------------------------------------\n",
      "topology/pod-1/node-201/sys/phys-[eth1/33]                              inherit  9150  \n",
      "topology/pod-1/node-201/sys/phys-[eth1/34]                              inherit  9150  \n",
      "topology/pod-1/node-201/sys/phys-[eth1/35]                              inherit  9150  \n",
      "topology/pod-1/node-201/sys/phys-[eth1/36]                              inherit  9150  \n",
      "topology/pod-1/node-201/sys/phys-[eth1/1]                               inherit  9150  \n",
      "topology/pod-1/node-201/sys/phys-[eth1/2]                               inherit  9150  \n",
      "topology/pod-1/node-201/sys/phys-[eth1/3]                               inherit  9150  \n",
      "topology/pod-1/node-201/sys/phys-[eth1/4]                               inherit  9150  \n",
      "topology/pod-1/node-201/sys/phys-[eth1/5]                               inherit  9150  \n",
      "topology/pod-1/node-201/sys/phys-[eth1/6]                               inherit  9150  \n",
      "topology/pod-1/node-201/sys/phys-[eth1/7]                               inherit  9150  \n",
      "topology/pod-1/node-201/sys/phys-[eth1/8]                               inherit  9150  \n",
      "topology/pod-1/node-201/sys/phys-[eth1/9]                               inherit  9150  \n",
      "topology/pod-1/node-201/sys/phys-[eth1/10]                              inherit  9150  \n",
      "topology/pod-1/node-201/sys/phys-[eth1/11]                              inherit  9150  \n",
      "topology/pod-1/node-201/sys/phys-[eth1/12]                              inherit  9150  \n",
      "topology/pod-1/node-201/sys/phys-[eth1/13]                              inherit  9150  \n",
      "topology/pod-1/node-201/sys/phys-[eth1/14]                              inherit  9150  \n"
     ]
    }
   ],
   "source": [
    "import json\n",
    "\n",
    "file_path = 'C:/Users/user/OneDrive/Lab 4/sample-data.json'\n",
    "\n",
    "with open(file_path, 'r') as file:\n",
    "    data = json.load(file)\n",
    "\n",
    "interfaces = data['imdata']\n",
    "\n",
    "print(\"Interface Status\")\n",
    "print(\"=\" * 80)\n",
    "print(f\"{'DN':<50} {'Description':<20} {'Speed':<8} {'MTU':<6}\")\n",
    "print(\"-\" * 80)\n",
    "\n",
    "for interface in interfaces:\n",
    "    attributes = interface['l1PhysIf']['attributes']\n",
    "    dn = attributes['dn']\n",
    "    description = attributes.get('descr', '')\n",
    "    speed = attributes.get('speed', 'inherit')\n",
    "    mtu = attributes.get('mtu', '9150')\n",
    "    \n",
    "    print(f\"{dn:<50} {description:<20} {speed:<8} {mtu:<6}\")\n"
   ]
  },
  {
   "cell_type": "code",
   "execution_count": null,
   "id": "6404c571",
   "metadata": {},
   "outputs": [],
   "source": []
  }
 ],
 "metadata": {
  "kernelspec": {
   "display_name": "Python 3 (ipykernel)",
   "language": "python",
   "name": "python3"
  },
  "language_info": {
   "codemirror_mode": {
    "name": "ipython",
    "version": 3
   },
   "file_extension": ".py",
   "mimetype": "text/x-python",
   "name": "python",
   "nbconvert_exporter": "python",
   "pygments_lexer": "ipython3",
   "version": "3.11.5"
  }
 },
 "nbformat": 4,
 "nbformat_minor": 5
}

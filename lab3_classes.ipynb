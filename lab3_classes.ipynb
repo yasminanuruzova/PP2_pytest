{
 "cells": [
  {
   "cell_type": "markdown",
   "id": "fa99953b",
   "metadata": {},
   "source": [
    "### 1.Define a class which has at least two methods: getString: to get a string from console input printString: to print the string in upper case.\n"
   ]
  },
  {
   "cell_type": "code",
   "execution_count": 1,
   "id": "8f9ef3f0",
   "metadata": {},
   "outputs": [
    {
     "name": "stdout",
     "output_type": "stream",
     "text": [
      "Enter a string: hello\n",
      "HELLO\n"
     ]
    }
   ],
   "source": [
    "class String:\n",
    "    def __init__(self):\n",
    "        self.string = \"\"\n",
    "\n",
    "    def getString(self):\n",
    "        self.string = input(\"Enter a string: \")\n",
    "\n",
    "    def printString(self):\n",
    "        print(self.string.upper())\n",
    "\n",
    "obj = String()\n",
    "obj.getString()\n",
    "obj.printString()"
   ]
  },
  {
   "cell_type": "markdown",
   "id": "deef403c",
   "metadata": {},
   "source": [
    "### 2.Define a class named Shape and its subclass Square. The Square class has an init function which takes a length as argument. Both classes have a area function which can print the area of the shape where Shape's area is 0 by default."
   ]
  },
  {
   "cell_type": "code",
   "execution_count": 3,
   "id": "9fdce306",
   "metadata": {},
   "outputs": [
    {
     "name": "stdout",
     "output_type": "stream",
     "text": [
      "25\n",
      "0\n"
     ]
    }
   ],
   "source": [
    "class Shape:\n",
    "    def area(self):\n",
    "        return 0\n",
    "class Square(Shape):\n",
    "    def __init__(self, length):\n",
    "        self.length= length\n",
    "    def area(self):\n",
    "        return self.length ** 2\n",
    "    \n",
    "square=Square(5)\n",
    "print(square.area())\n",
    "\n",
    "shape=Shape()\n",
    "print(shape.area())"
   ]
  },
  {
   "cell_type": "markdown",
   "id": "fc94105f",
   "metadata": {},
   "source": [
    "### 3.Define a class named Rectangle which inherits from Shape class from task 2. Class instance can be constructed by a length and width. The Rectangle class has a method which can compute the area."
   ]
  },
  {
   "cell_type": "code",
   "execution_count": 7,
   "id": "2f5e5443",
   "metadata": {},
   "outputs": [
    {
     "name": "stdout",
     "output_type": "stream",
     "text": [
      "20\n"
     ]
    }
   ],
   "source": [
    "class Rectangle(Shape):\n",
    "    def __init__(self, length, width):\n",
    "        self.length = length\n",
    "        self.width = width\n",
    "    def area(self):\n",
    "        return self.length * self.width\n",
    "\n",
    "rectangle=Rectangle(5,4)\n",
    "print(rectangle.area())"
   ]
  },
  {
   "cell_type": "markdown",
   "id": "c48f0ea9",
   "metadata": {},
   "source": [
    "### 4.Write the definition of a Point class. Objects from this class should have a\n",
    "\n",
    "a method show to display the coordinates of the point <br>\n",
    "a method move to change these coordinates <br>\n",
    "a method dist that computes the distance between 2 points "
   ]
  },
  {
   "cell_type": "code",
   "execution_count": 17,
   "id": "446b0da9",
   "metadata": {},
   "outputs": [
    {
     "name": "stdout",
     "output_type": "stream",
     "text": [
      "3 5\n",
      "5.0\n"
     ]
    }
   ],
   "source": [
    "import math\n",
    "\n",
    "class Point:\n",
    "    def __init__(self, x, y):\n",
    "        self.x = x\n",
    "        self.y = y\n",
    "    def show(self):\n",
    "        print(self.x, self.y)\n",
    "    def move(self, new_x, new_y):\n",
    "        self.x = new_x\n",
    "        self.y = new_y\n",
    "    def dist(self, points):\n",
    "        return math.sqrt((self.x-points.x)**2 + (self.y-points.y)**2)\n",
    "    \n",
    "p1=Point(3,5)\n",
    "p2=Point(7,1)\n",
    "p1.show()\n",
    "p1.move(3,4)\n",
    "\n",
    "print(p1.dist(p2))\n",
    "     "
   ]
  },
  {
   "cell_type": "markdown",
   "id": "3dd51c08",
   "metadata": {},
   "source": [
    "### 5.Create a bank account class that has attributes owner, balance and two methods deposit and withdraw. Withdrawals may not exceed the available balance. Instantiate your class, make several deposits and withdrawals, and test to make sure the account can't be overdrawn.\n",
    "\n",
    "class Account: <br>\n",
    "    pass"
   ]
  },
  {
   "cell_type": "code",
   "execution_count": 25,
   "id": "9c603e35",
   "metadata": {},
   "outputs": [
    {
     "name": "stdout",
     "output_type": "stream",
     "text": [
      "Account owner: Daniel, Balance: 160\n",
      "Deposited 40. New balance: 200\n",
      "Withdrew 100. New balance: 100\n",
      "Account owner: Daniel, Balance: 100\n",
      "Withdrew 100. New balance: 0\n",
      "Account owner: Daniel, Balance: 0\n"
     ]
    }
   ],
   "source": [
    "class Account:\n",
    "    def __init__(self, owner, balance=0):\n",
    "        self.owner = owner\n",
    "        self.balance = balance\n",
    "    def deposit(self, amount):\n",
    "        if amount > 0:\n",
    "            self.balance += amount\n",
    "            print(f\"Deposited {amount}. New balance: {self.balance}\")\n",
    "        else:\n",
    "            print(\"Deposit amount must be positive!\")\n",
    "    def withdraw(self, amount):\n",
    "        if self.balance < amount:\n",
    "            print(\"Withdrawal denied!\")\n",
    "        elif amount > 0:\n",
    "            self.balance -= amount\n",
    "            print(f\"Withdrew {amount}. New balance: {self.balance}\")\n",
    "        else:\n",
    "            print(\"Withdrawal amount must be positive!\")\n",
    "    def show_balance(self):\n",
    "        print(f\"Account owner: {self.owner}, Balance: {self.balance}\")\n",
    "\n",
    "        \n",
    "        \n",
    "acc = Account(\"Daniel\", 160)\n",
    "acc.show_balance()\n",
    "\n",
    "acc.deposit(40)\n",
    "acc.withdraw(100)\n",
    "\n",
    "acc.withdraw(100)\n",
    "acc.show_balance()\n",
    "\n",
    "            \n",
    "            "
   ]
  },
  {
   "cell_type": "markdown",
   "id": "ed8e9e98",
   "metadata": {},
   "source": [
    "### 6.Write a program which can filter prime numbers in a list by using filter function. Note: Use lambda to define anonymous functions."
   ]
  },
  {
   "cell_type": "code",
   "execution_count": 36,
   "id": "e850509f",
   "metadata": {},
   "outputs": [
    {
     "name": "stdout",
     "output_type": "stream",
     "text": [
      "[5, 3, 11, 13]\n"
     ]
    }
   ],
   "source": [
    "def is_prime(n):\n",
    "    if n < 2:\n",
    "        return False\n",
    "    for i in range(2, int(n ** 0.5) + 1):\n",
    "        if n % i == 0:\n",
    "            return False\n",
    "    return True\n",
    "a = [5, 3, 9, 10, 11, 13, 16]\n",
    "print(list(filter(lambda x: is_prime(x), a)))"
   ]
  },
  {
   "cell_type": "code",
   "execution_count": 35,
   "id": "44c3d9f8",
   "metadata": {},
   "outputs": [
    {
     "name": "stdout",
     "output_type": "stream",
     "text": [
      "[5, 3, 11, 13]\n"
     ]
    }
   ],
   "source": [
    "a = [5, 3, 9, 10, 11, 13, 16]\n",
    "b=filter(lambda n: all(n % i != 0 for i in range(2, int(n**0.5) + 1)) and n > 1, a)\n",
    "print(list(b))"
   ]
  },
  {
   "cell_type": "code",
   "execution_count": null,
   "id": "42bcf286",
   "metadata": {},
   "outputs": [],
   "source": []
  },
  {
   "cell_type": "code",
   "execution_count": null,
   "id": "84c85fcc",
   "metadata": {},
   "outputs": [],
   "source": []
  }
 ],
 "metadata": {
  "kernelspec": {
   "display_name": "Python 3 (ipykernel)",
   "language": "python",
   "name": "python3"
  },
  "language_info": {
   "codemirror_mode": {
    "name": "ipython",
    "version": 3
   },
   "file_extension": ".py",
   "mimetype": "text/x-python",
   "name": "python",
   "nbconvert_exporter": "python",
   "pygments_lexer": "ipython3",
   "version": "3.11.5"
  }
 },
 "nbformat": 4,
 "nbformat_minor": 5
}

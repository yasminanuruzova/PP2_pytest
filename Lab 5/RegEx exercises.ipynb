{
 "cells": [
  {
   "cell_type": "markdown",
   "id": "63a9b128",
   "metadata": {},
   "source": [
    "1. Write a Python program that matches a string that has an 'a' followed by zero or more 'b' 's."
   ]
  },
  {
   "cell_type": "code",
   "execution_count": 1,
   "id": "41f2efe5",
   "metadata": {},
   "outputs": [
    {
     "name": "stdout",
     "output_type": "stream",
     "text": [
      "Enter: abbb\n",
      "<re.Match object; span=(0, 4), match='abbb'>\n"
     ]
    }
   ],
   "source": [
    "import re\n",
    "\n",
    "txt = input(\"Enter: \")\n",
    "x = re.fullmatch(r'^a*b*$', txt)\n",
    "print(x)"
   ]
  },
  {
   "cell_type": "markdown",
   "id": "c41566a4",
   "metadata": {},
   "source": [
    "2. Write a Python program that matches a string that has an 'a' followed by two to three 'b'"
   ]
  },
  {
   "cell_type": "code",
   "execution_count": 2,
   "id": "7f6bb909",
   "metadata": {},
   "outputs": [
    {
     "name": "stdout",
     "output_type": "stream",
     "text": [
      "Enter: abbb\n",
      "<re.Match object; span=(0, 4), match='abbb'>\n"
     ]
    }
   ],
   "source": [
    "import re\n",
    "\n",
    "txt = input(\"Enter: \")\n",
    "x = re.fullmatch(r'^ab{2,3}$', txt)\n",
    "print(x)"
   ]
  },
  {
   "cell_type": "markdown",
   "id": "985f6185",
   "metadata": {},
   "source": [
    "3.  Write a Python program to find sequences of lowercase letters joined with a underscore."
   ]
  },
  {
   "cell_type": "code",
   "execution_count": 3,
   "id": "2f2b0ccf",
   "metadata": {},
   "outputs": [
    {
     "name": "stdout",
     "output_type": "stream",
     "text": [
      "Enter: hello_world\n",
      "<re.Match object; span=(0, 11), match='hello_world'>\n"
     ]
    }
   ],
   "source": [
    "import re\n",
    "\n",
    "txt = input(\"Enter: \")\n",
    "x = re.fullmatch(r'^[a-z]+_[a-z]+$', txt)\n",
    "print(x)"
   ]
  },
  {
   "cell_type": "markdown",
   "id": "a6aa1d9f",
   "metadata": {},
   "source": [
    "4.   Write a Python program to find the sequences of one upper case letter followed by lower case letters."
   ]
  },
  {
   "cell_type": "code",
   "execution_count": 1,
   "id": "720d0bcf",
   "metadata": {},
   "outputs": [
    {
     "name": "stdout",
     "output_type": "stream",
     "text": [
      "Enter: Hi\n",
      "<re.Match object; span=(0, 2), match='Hi'>\n"
     ]
    }
   ],
   "source": [
    "import re\n",
    "\n",
    "txt = input(\"Enter: \")\n",
    "x = re.fullmatch(r'^[A-Z][a-z]+$', txt)\n",
    "print(x)"
   ]
  },
  {
   "cell_type": "markdown",
   "id": "669f62d8",
   "metadata": {},
   "source": [
    "5.  Write a Python program that matches a string that has an 'a' followed by anything, ending in 'b'."
   ]
  },
  {
   "cell_type": "code",
   "execution_count": 2,
   "id": "90a175cb",
   "metadata": {},
   "outputs": [
    {
     "name": "stdout",
     "output_type": "stream",
     "text": [
      "Enter: a..,b\n",
      "<re.Match object; span=(0, 5), match='a..,b'>\n"
     ]
    }
   ],
   "source": [
    "import re\n",
    "\n",
    "txt = input(\"Enter: \")\n",
    "x = re.fullmatch(r'^a.*b$', txt)\n",
    "print(x)"
   ]
  },
  {
   "cell_type": "markdown",
   "id": "5a555e07",
   "metadata": {},
   "source": [
    "6. Write a Python program to replace all occurrences of space, comma, or dot with a colon."
   ]
  },
  {
   "cell_type": "code",
   "execution_count": 3,
   "id": "8897a063",
   "metadata": {},
   "outputs": [
    {
     "name": "stdout",
     "output_type": "stream",
     "text": [
      "Enter: hey there.\n",
      "hey:there:\n"
     ]
    }
   ],
   "source": [
    "import re\n",
    "\n",
    "txt = input(\"Enter: \")\n",
    "x = re.sub(r'[ ,.]',':', txt)\n",
    "print(x)"
   ]
  },
  {
   "cell_type": "markdown",
   "id": "416a97b1",
   "metadata": {},
   "source": [
    "7. Write a python program to convert snake case string to camel case string"
   ]
  },
  {
   "cell_type": "code",
   "execution_count": 4,
   "id": "af47e699",
   "metadata": {},
   "outputs": [
    {
     "name": "stdout",
     "output_type": "stream",
     "text": [
      "Enter: snake_case_to_camel_case\n",
      "snakeCaseToCamelCase\n"
     ]
    }
   ],
   "source": [
    "import re\n",
    "\n",
    "txt = input(\"Enter: \")\n",
    "x = re.sub(r'_([a-zA-Z])', lambda match: match.group(1).upper(), txt)\n",
    "print(x)"
   ]
  },
  {
   "cell_type": "markdown",
   "id": "3b74b179",
   "metadata": {},
   "source": [
    "8. Write a Python program to split a string at uppercase letters."
   ]
  },
  {
   "cell_type": "code",
   "execution_count": 2,
   "id": "e9cad722",
   "metadata": {},
   "outputs": [
    {
     "name": "stdout",
     "output_type": "stream",
     "text": [
      "Enter: HelloWorldExample\n",
      "['', 'Hello', 'World', 'Example']\n"
     ]
    }
   ],
   "source": [
    "import re\n",
    "\n",
    "txt = input(\"Enter: \")\n",
    "x = re.split(r'(?=[A-Z])', txt)\n",
    "print(x)"
   ]
  },
  {
   "cell_type": "markdown",
   "id": "a99913bc",
   "metadata": {},
   "source": [
    "9.  Write a Python program to insert spaces between words starting with capital letters.\n",
    "\n"
   ]
  },
  {
   "cell_type": "code",
   "execution_count": 5,
   "id": "154cb858",
   "metadata": {},
   "outputs": [
    {
     "name": "stdout",
     "output_type": "stream",
     "text": [
      "Enter: HiYasmina\n",
      " Hi Yasmina\n"
     ]
    }
   ],
   "source": [
    "import re\n",
    "\n",
    "txt = input(\"Enter: \")\n",
    "x = re.sub(r'(?=[A-Z])',' ', txt)\n",
    "print(x)"
   ]
  },
  {
   "cell_type": "markdown",
   "id": "7b1455ad",
   "metadata": {},
   "source": [
    "10.  Write a Python program to convert a given camel case string to snake case."
   ]
  },
  {
   "cell_type": "code",
   "execution_count": 6,
   "id": "efae0577",
   "metadata": {},
   "outputs": [
    {
     "name": "stdout",
     "output_type": "stream",
     "text": [
      "Enter: helloWorldExample\n",
      "hello_world_example\n"
     ]
    }
   ],
   "source": [
    "import re\n",
    "\n",
    "txt = input(\"Enter: \")\n",
    "x = re.sub(r'([A-Z])', r'_\\1', txt).lower()\n",
    "print(x)"
   ]
  },
  {
   "cell_type": "code",
   "execution_count": null,
   "id": "5b0d9102",
   "metadata": {},
   "outputs": [],
   "source": []
  },
  {
   "cell_type": "code",
   "execution_count": null,
   "id": "22185989",
   "metadata": {},
   "outputs": [],
   "source": []
  },
  {
   "cell_type": "code",
   "execution_count": null,
   "id": "cd3f54d1",
   "metadata": {},
   "outputs": [],
   "source": []
  },
  {
   "cell_type": "code",
   "execution_count": null,
   "id": "0f78f676",
   "metadata": {},
   "outputs": [],
   "source": []
  },
  {
   "cell_type": "code",
   "execution_count": null,
   "id": "bda01a6b",
   "metadata": {},
   "outputs": [],
   "source": []
  },
  {
   "cell_type": "code",
   "execution_count": null,
   "id": "09e69184",
   "metadata": {},
   "outputs": [],
   "source": []
  },
  {
   "cell_type": "code",
   "execution_count": null,
   "id": "d8071583",
   "metadata": {},
   "outputs": [],
   "source": []
  },
  {
   "cell_type": "code",
   "execution_count": null,
   "id": "9bdd1db3",
   "metadata": {},
   "outputs": [],
   "source": []
  },
  {
   "cell_type": "code",
   "execution_count": null,
   "id": "40c68b2f",
   "metadata": {},
   "outputs": [],
   "source": []
  },
  {
   "cell_type": "code",
   "execution_count": null,
   "id": "95555424",
   "metadata": {},
   "outputs": [],
   "source": []
  },
  {
   "cell_type": "code",
   "execution_count": null,
   "id": "9f13e6a7",
   "metadata": {},
   "outputs": [],
   "source": []
  }
 ],
 "metadata": {
  "kernelspec": {
   "display_name": "Python 3 (ipykernel)",
   "language": "python",
   "name": "python3"
  },
  "language_info": {
   "codemirror_mode": {
    "name": "ipython",
    "version": 3
   },
   "file_extension": ".py",
   "mimetype": "text/x-python",
   "name": "python",
   "nbconvert_exporter": "python",
   "pygments_lexer": "ipython3",
   "version": "3.11.5"
  }
 },
 "nbformat": 4,
 "nbformat_minor": 5
}

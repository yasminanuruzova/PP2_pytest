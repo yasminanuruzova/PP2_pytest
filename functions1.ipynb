{
 "cells": [
  {
   "cell_type": "markdown",
   "id": "2966c89b",
   "metadata": {},
   "source": [
    "1.A recipe you are reading states how many grams you need for the ingredient. Unfortunately, your store only sells items in ounces. Create a function to convert grams to ounces. ounces = 28.3495231 * grams"
   ]
  },
  {
   "cell_type": "code",
   "execution_count": 3,
   "id": "4c931178",
   "metadata": {},
   "outputs": [
    {
     "name": "stdout",
     "output_type": "stream",
     "text": [
      "5669.904619999999\n"
     ]
    }
   ],
   "source": [
    "def convert(grams):\n",
    "    ounces = 28.3495231 * grams\n",
    "    return ounces\n",
    "\n",
    "ounces=convert(200)\n",
    "print(ounces)\n",
    "\n",
    "    "
   ]
  },
  {
   "cell_type": "markdown",
   "id": "4e7d6230",
   "metadata": {},
   "source": [
    "2.Read in a Fahrenheit temperature. Calculate and display the equivalent centigrade temperature. The following formula is used for the conversion: C = (5 / 9) * (F – 32)"
   ]
  },
  {
   "cell_type": "code",
   "execution_count": 5,
   "id": "bf33b067",
   "metadata": {},
   "outputs": [
    {
     "name": "stdout",
     "output_type": "stream",
     "text": [
      "2.2222222222222223\n"
     ]
    }
   ],
   "source": [
    "def calc(Fahrenheit):\n",
    "    centigrade=(5 / 9) * (Fahrenheit - 32)\n",
    "    return centigrade\n",
    "\n",
    "centigrade=calc(36)\n",
    "print(centigrade)"
   ]
  },
  {
   "cell_type": "markdown",
   "id": "6795b72e",
   "metadata": {},
   "source": [
    "3.Write a program to solve a classic puzzle: We count 35 heads and 94 legs among the chickens and rabbits in a farm. How many rabbits and how many chickens do we have? create function: solve(numheads, numlegs):"
   ]
  },
  {
   "cell_type": "code",
   "execution_count": 10,
   "id": "48d24dd2",
   "metadata": {},
   "outputs": [
    {
     "name": "stdout",
     "output_type": "stream",
     "text": [
      "Chickens: 23, Rabbits: 12\n"
     ]
    }
   ],
   "source": [
    "def solve(numheads, numlegs):\n",
    "    y = (numlegs - 2 * numheads) / 2\n",
    "    x = numheads - y\n",
    "\n",
    "    if x.is_integer() and y.is_integer() and x >= 0 and y >= 0:\n",
    "        return int(x), int(y)\n",
    "    else:\n",
    "        return \"No solution\"\n",
    "\n",
    "numheads = 35\n",
    "numlegs = 94\n",
    "chickens, rabbits = solve(numheads, numlegs)\n",
    "print(f\"Chickens: {chickens}, Rabbits: {rabbits}\")"
   ]
  },
  {
   "cell_type": "code",
   "execution_count": 9,
   "id": "879f6497",
   "metadata": {},
   "outputs": [],
   "source": [
    "# Solve the system of equations\n",
    "    # x + y = numheads\n",
    "    # 2x + 4y = numlegs\n",
    "\n",
    "    # From the first equation, x = numheads - y\n",
    "    # Substitute x in the second equation:\n",
    "    # 2(numheads - y) + 4y = numlegs\n",
    "    # 2 * numheads - 2y + 4y = numlegs\n",
    "    # 2 * numheads + 2y = numlegs\n",
    "    # 2y = numlegs - 2 * numheads\n",
    "    # y = (numlegs - 2 * numheads) / 2"
   ]
  },
  {
   "cell_type": "markdown",
   "id": "ce1436c1",
   "metadata": {},
   "source": [
    "4. You are given list of numbers separated by spaces. Write a function filter_prime which will take list of numbers as an agrument and returns only prime numbers from the list.\n",
    "\n"
   ]
  },
  {
   "cell_type": "code",
   "execution_count": 15,
   "id": "783f1abb",
   "metadata": {},
   "outputs": [
    {
     "name": "stdout",
     "output_type": "stream",
     "text": [
      "9 5 6 7 8 3 4 6\n",
      "[5, 7, 3]\n"
     ]
    }
   ],
   "source": [
    "def is_prime(n):\n",
    "    if n < 2:\n",
    "        return False\n",
    "    for i in range(2, int(n**0.5) + 1):\n",
    "        if n % i == 0:\n",
    "            return False\n",
    "    return True\n",
    "\n",
    "def filter_prime(numbers):\n",
    "    return [n for n in numbers if is_prime(n)]\n",
    "\n",
    "nums = list(map(int, input().split()))  \n",
    "print(filter_prime(nums))"
   ]
  },
  {
   "cell_type": "markdown",
   "id": "13f18e3c",
   "metadata": {},
   "source": [
    "5.Write a function that accepts string from user and print all permutations of that string."
   ]
  },
  {
   "cell_type": "code",
   "execution_count": 22,
   "id": "6ea981c7",
   "metadata": {},
   "outputs": [
    {
     "name": "stdout",
     "output_type": "stream",
     "text": [
      "enter string: kai\n",
      "kai\n",
      "kia\n",
      "aki\n",
      "aik\n",
      "ika\n",
      "iak\n"
     ]
    }
   ],
   "source": [
    "from itertools import permutations\n",
    "def prmut(s):\n",
    "    perms=[''.join(p) for p in permutations(s)]\n",
    "    print(\"\\n\".join(perms))\n",
    "    \n",
    "prmut(input(\"enter string: \"))"
   ]
  },
  {
   "cell_type": "markdown",
   "id": "6ff2f8fc",
   "metadata": {},
   "source": [
    "6.Write a function that accepts string from user, return a sentence with the words reversed. We are ready -> ready are We\n"
   ]
  },
  {
   "cell_type": "code",
   "execution_count": 28,
   "id": "28354dc6",
   "metadata": {},
   "outputs": [
    {
     "name": "stdout",
     "output_type": "stream",
     "text": [
      "enter: hey pupsik\n",
      "pupsik hey\n"
     ]
    }
   ],
   "source": [
    "def reverse(s):\n",
    "    return ' '.join(s.split()[::-1])\n",
    "\n",
    "print(reverse(input(\"enter: \")))"
   ]
  },
  {
   "cell_type": "markdown",
   "id": "1dbe025c",
   "metadata": {},
   "source": [
    "7.Given a list of ints, return True if the array contains a 3 next to a 3 somewhere.\n",
    "\n",
    "def has_33(nums):   <br>\n",
    "    pass\n",
    "\n",
    "has_33([1, 3, 3]) → True <br>\n",
    "has_33([1, 3, 1, 3]) → False <br>\n",
    "has_33([3, 1, 3]) → False "
   ]
  },
  {
   "cell_type": "code",
   "execution_count": 32,
   "id": "96fbddcf",
   "metadata": {},
   "outputs": [
    {
     "name": "stdout",
     "output_type": "stream",
     "text": [
      "True\n",
      "False\n",
      "False\n"
     ]
    }
   ],
   "source": [
    "def has_33(nums):\n",
    "    for i in range(len(nums)-1):\n",
    "        if nums[i]==3 and nums[i + 1]==3:\n",
    "            return True\n",
    "    return False\n",
    "\n",
    "print(has_33([1, 3, 3]))\n",
    "print(has_33([1, 3, 1, 3]))\n",
    "print(has_33([3, 1, 3]))"
   ]
  },
  {
   "cell_type": "markdown",
   "id": "4513ff53",
   "metadata": {},
   "source": [
    "8.Write a function that takes in a list of integers and returns True if it contains 007 in order\n",
    "def spy_game(nums):\n",
    "    pass\n",
    "\n",
    "spy_game([1,2,4,0,0,7,5]) --> True\n",
    "spy_game([1,0,2,4,0,5,7]) --> True\n",
    "spy_game([1,7,2,0,4,5,0]) --> False"
   ]
  },
  {
   "cell_type": "code",
   "execution_count": 41,
   "id": "a1b08477",
   "metadata": {},
   "outputs": [
    {
     "name": "stdout",
     "output_type": "stream",
     "text": [
      "True\n",
      "True\n",
      "False\n"
     ]
    }
   ],
   "source": [
    "def spy_game(nums):\n",
    "    s = [0, 0, 7]  \n",
    "    i = 0  \n",
    "\n",
    "    for num in nums:\n",
    "        if num == s[i]:  \n",
    "            i += 1  \n",
    "            if i == len(s):  \n",
    "                return True\n",
    "    return False  \n",
    "\n",
    "print(spy_game([1, 2, 4, 0, 0, 7, 5]))  \n",
    "print(spy_game([1, 0, 2, 4, 0, 5, 7])) \n",
    "print(spy_game([1, 7, 2, 0, 4, 5, 0])) \n"
   ]
  },
  {
   "cell_type": "markdown",
   "id": "dcac80e1",
   "metadata": {},
   "source": [
    "9.Write a function that computes the volume of a sphere given its radius"
   ]
  },
  {
   "cell_type": "code",
   "execution_count": 43,
   "id": "d6ab969e",
   "metadata": {},
   "outputs": [
    {
     "name": "stdout",
     "output_type": "stream",
     "text": [
      "33.510321638291124\n"
     ]
    }
   ],
   "source": [
    "import math\n",
    "def volume(r):\n",
    "    return 4/3*math.pi*(r**3)\n",
    "\n",
    "print(volume(2))"
   ]
  },
  {
   "cell_type": "markdown",
   "id": "9244f3d2",
   "metadata": {},
   "source": [
    "10.Write a Python function that takes a list and returns a new list with unique elements of the first list. Note: don't use collection set.\n",
    "\n"
   ]
  },
  {
   "cell_type": "code",
   "execution_count": 46,
   "id": "20a5baac",
   "metadata": {},
   "outputs": [
    {
     "name": "stdout",
     "output_type": "stream",
     "text": [
      "[1, 2, 3, 4, 5]\n",
      "[7, 8, 9, 10]\n"
     ]
    }
   ],
   "source": [
    "def uniq_el(s):\n",
    "    uniq_list=[]\n",
    "    for item in s:\n",
    "        if item not in uniq_list:\n",
    "            uniq_list.append(item)\n",
    "    return uniq_list\n",
    "\n",
    "print(uniq_el([1, 2, 2, 3, 4, 4, 5]))  \n",
    "print(uniq_el([7, 7, 8, 9, 9, 10]))"
   ]
  },
  {
   "cell_type": "markdown",
   "id": "61dd5ad4",
   "metadata": {},
   "source": [
    "11.Write a Python function that checks whether a word or phrase is palindrome or not. Note: A palindrome is word, phrase, or sequence that reads the same backward as forward, e.g., madam"
   ]
  },
  {
   "cell_type": "code",
   "execution_count": 59,
   "id": "ba708839",
   "metadata": {},
   "outputs": [
    {
     "name": "stdout",
     "output_type": "stream",
     "text": [
      "enter string: yasmina\n"
     ]
    },
    {
     "data": {
      "text/plain": [
       "False"
      ]
     },
     "execution_count": 59,
     "metadata": {},
     "output_type": "execute_result"
    }
   ],
   "source": [
    "def palindrome(s):\n",
    "    if s==s[::-1]:\n",
    "        return True\n",
    "    return False\n",
    "\n",
    "palindrome((input(\"enter string: \")))"
   ]
  },
  {
   "cell_type": "markdown",
   "id": "2ec20a5b",
   "metadata": {},
   "source": [
    "12.Define a functino histogram() that takes a list of integers and prints a histogram to the screen. For example, histogram([4, 9, 7]) should print the following:\n",
    "\n",
    "**** <br>\n",
    "********* <br>\n",
    "******* <br>"
   ]
  },
  {
   "cell_type": "code",
   "execution_count": 64,
   "id": "57faf70f",
   "metadata": {},
   "outputs": [
    {
     "name": "stdout",
     "output_type": "stream",
     "text": [
      "******\n",
      "**\n",
      "**********\n"
     ]
    }
   ],
   "source": [
    "def histogram(nums):\n",
    "    for num in nums:\n",
    "        print(\"*\" * num)\n",
    "        \n",
    "histogram([6,2,10])"
   ]
  },
  {
   "cell_type": "markdown",
   "id": "705e88ed",
   "metadata": {},
   "source": [
    "13.Write a program able to play the \"Guess the number\" - game, where the number to be guessed is randomly chosen between 1 and 20. This is how it should work when run in a terminal: <br>\n",
    "\n",
    "Hello! What is your name? <br>\n",
    "KBTU\n",
    "\n",
    "Well, KBTU, I am thinking of a number between 1 and 20. <br>\n",
    "Take a guess. <br>\n",
    "12"
   ]
  },
  {
   "cell_type": "code",
   "execution_count": 65,
   "id": "2894d320",
   "metadata": {},
   "outputs": [
    {
     "name": "stdout",
     "output_type": "stream",
     "text": [
      "Hello! What is your name?\n",
      "yasmina\n",
      "Well, yasmina, I am thinking of a number between 1 and 20.\n",
      "Take a guess.\n",
      "5\n",
      "Your guess is too low.\n",
      "Take a guess.\n",
      "10\n",
      "Your guess is too high.\n",
      "Take a guess.\n",
      "8\n",
      "Your guess is too low.\n",
      "Take a guess.\n",
      "9\n",
      "Good job, yasmina! You guessed my number in 4 guesses!\n"
     ]
    }
   ],
   "source": [
    "import random\n",
    "\n",
    "def guess_the_number():\n",
    "    print(\"Hello! What is your name?\")\n",
    "    name = input()\n",
    "\n",
    "    number_to_guess = random.randint(1, 20)\n",
    "    print(f\"Well, {name}, I am thinking of a number between 1 and 20.\")\n",
    "\n",
    "    guesses_taken = 0 \n",
    "\n",
    "    while True:\n",
    "        print(\"Take a guess.\")\n",
    "        guess = int(input())\n",
    "        guesses_taken += 1\n",
    "\n",
    "        if guess < number_to_guess:\n",
    "            print(\"Your guess is too low.\")\n",
    "        elif guess > number_to_guess:\n",
    "            print(\"Your guess is too high.\")\n",
    "        else:\n",
    "            print(f\"Good job, {name}! You guessed my number in {guesses_taken} guesses!\")\n",
    "            break\n",
    "guess_the_number()\n"
   ]
  },
  {
   "cell_type": "markdown",
   "id": "ea0fcc19",
   "metadata": {},
   "source": [
    "14.Create a python file and import some of the functions from the above 13 tasks and try to use them."
   ]
  },
  {
   "cell_type": "code",
   "execution_count": null,
   "id": "70760d2b",
   "metadata": {},
   "outputs": [],
   "source": []
  },
  {
   "cell_type": "code",
   "execution_count": null,
   "id": "299f666d",
   "metadata": {},
   "outputs": [],
   "source": []
  },
  {
   "cell_type": "code",
   "execution_count": null,
   "id": "c6d8969b",
   "metadata": {},
   "outputs": [],
   "source": []
  },
  {
   "cell_type": "code",
   "execution_count": null,
   "id": "60279b46",
   "metadata": {},
   "outputs": [],
   "source": []
  },
  {
   "cell_type": "code",
   "execution_count": null,
   "id": "97ce847a",
   "metadata": {},
   "outputs": [],
   "source": []
  },
  {
   "cell_type": "code",
   "execution_count": null,
   "id": "b66574cc",
   "metadata": {},
   "outputs": [],
   "source": []
  },
  {
   "cell_type": "code",
   "execution_count": null,
   "id": "0d9cb547",
   "metadata": {},
   "outputs": [],
   "source": []
  },
  {
   "cell_type": "code",
   "execution_count": null,
   "id": "012160ee",
   "metadata": {},
   "outputs": [],
   "source": []
  }
 ],
 "metadata": {
  "kernelspec": {
   "display_name": "Python 3 (ipykernel)",
   "language": "python",
   "name": "python3"
  },
  "language_info": {
   "codemirror_mode": {
    "name": "ipython",
    "version": 3
   },
   "file_extension": ".py",
   "mimetype": "text/x-python",
   "name": "python",
   "nbconvert_exporter": "python",
   "pygments_lexer": "ipython3",
   "version": "3.11.5"
  }
 },
 "nbformat": 4,
 "nbformat_minor": 5
}
